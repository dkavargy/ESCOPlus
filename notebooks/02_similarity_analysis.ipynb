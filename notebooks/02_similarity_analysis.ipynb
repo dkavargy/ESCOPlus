import pandas as pd
import seaborn as sns
import matplotlib.pyplot as plt
from src.algorithms.similarity_measures import get_top_similar_pairs

# Load skills from processed files
esco_df = pd.read_csv("../data/processed/esco_skills_cleaned.csv")
non_esco_df = pd.read_csv("../data/processed/filtered_tags.csv")

esco_skills = esco_df["skill"].dropna().unique().tolist()
non_esco_skills = non_esco_df["tag"].dropna().unique().tolist()

# Compute top 1 similar non-ESCO skill per ESCO skill with similarity > 0.7
similar_pairs_df = get_top_similar_pairs(
    esco_skills, non_esco_skills, top_n=1, threshold=0.7
)

# Show top matches
print("Top 10 Similar ESCO–Non-ESCO Skills:")
print(similar_pairs_df.head(10))

# Save the results to CSV
output_path = "../data/processed/similarity_matches.csv"
similar_pairs_df.to_csv(output_path, index=False)
print(f"Saved {len(similar_pairs_df)} similar pairs to {output_path}")

# Optional: Visualize Top Matches
top_20 = similar_pairs_df.sort_values(by="Similarity Score", ascending=False).head(20)

plt.figure(figsize=(10, 6))
sns.barplot(data=top_20, y="ESCO Skill", x="Similarity Score", hue="Non-ESCO Skill", dodge=False)
plt.title("Top 20 ESCO–Non-ESCO Similar Skills")
plt.xlabel("Cosine Similarity")
plt.ylabel("ESCO Skill")
plt.legend(loc='lower right')
plt.tight_layout()
plt.show()
