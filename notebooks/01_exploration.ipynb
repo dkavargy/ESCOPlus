# Jupyter Notebook content (to be saved as .ipynb)

# Cell 1: Imports
import pandas as pd
import matplotlib.pyplot as plt
import seaborn as sns

# Cell 2: Load Stack Overflow filtered tags
so_path = '../data/processed/filtered_tags.csv'
so_tags = pd.read_csv(so_path)
print("Stack Overflow Tags Sample:")
so_tags.head()

# Cell 3: Load cleaned ESCO skills
esco_path = '../data/processed/esco_skills_cleaned.csv'
esco_skills = pd.read_csv(esco_path)
print("ESCO Skills Sample:")
esco_skills.head()

# Cell 4: Tag distribution plot
plt.figure(figsize=(10, 6))
sns.histplot(so_tags['count'], bins=50, log_scale=True)
plt.title("Distribution of Stack Overflow Tag Frequencies")
plt.xlabel("Tag Frequency (log scale)")
plt.ylabel("Number of Tags")
plt.show()

# Cell 5: Check intersection between SO and ESCO
common_skills = set(so_tags['tag']).intersection(set(esco_skills['skill']))
print(f"Common skills between ESCO and Stack Overflow: {len(common_skills)}")
print("Examples:", list(common_skills)[:10])

# Cell 6: Save common tags (optional)
pd.DataFrame(list(common_skills), columns=['common_skill']).to_csv('../data/processed/common_skills.csv', index=False)
